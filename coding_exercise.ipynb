{
  "cells": [
    {
      "metadata": {},
      "cell_type": "markdown",
      "source": "# Coding Exercise"
    },
    {
      "metadata": {},
      "cell_type": "markdown",
      "source": "Ellen Cosgrove"
    },
    {
      "metadata": {
        "trusted": true
      },
      "cell_type": "code",
      "source": "# Importing Libraries\nimport pandas as pd\nimport numpy as np\nimport json\nimport urllib.request\nfrom pandas.io.json import json_normalize\nimport matplotlib.pyplot as plt",
      "execution_count": 1,
      "outputs": [
        {
          "output_type": "stream",
          "text": "/home/nbuser/anaconda3_501/lib/python3.6/site-packages/matplotlib/font_manager.py:229: UserWarning: Matplotlib is building the font cache using fc-list. This may take a moment.\n  'Matplotlib is building the font cache using fc-list. '\n",
          "name": "stderr"
        }
      ]
    },
    {
      "metadata": {
        "trusted": true
      },
      "cell_type": "code",
      "source": "api_key = 'FXCYXSRdxeSo3PfLsFd65xisIDww4Qto2a7uYsM2'",
      "execution_count": 2,
      "outputs": []
    },
    {
      "metadata": {},
      "cell_type": "markdown",
      "source": "# Part A"
    },
    {
      "metadata": {},
      "cell_type": "markdown",
      "source": "Using the data from the OpenFDA API (documentation at https://open.fda.gov/apis/drug/label/) to determine the average number of ingredients (spl_product_data_elements) contained in AstraZeneca medicines per year.\n\n    1. Choose a method to gather the data\n    2. Transform the data as you see fit\n    3. Visualize and explore the results"
    },
    {
      "metadata": {},
      "cell_type": "markdown",
      "source": "## Loading the data"
    },
    {
      "metadata": {
        "trusted": true,
        "scrolled": true
      },
      "cell_type": "code",
      "source": "# Loading in data from API\n# Importing the maximum amount of data, where the manufacturer is AstraZeneca\nurl = 'https://api.fda.gov/drug/label.json?api_key=FXCYXSRdxeSo3PfLsFd65xisIDww4Qto2a7uYsM2&search=openfda.manufacturer_name:\"Astrazeneca\"&limit=100'\nrequest = urllib.request.urlopen(url) \n\nload = json.loads(request.read())\ndata_a = json_normalize(load['results'])\ndata_a.head()",
      "execution_count": 3,
      "outputs": [
        {
          "output_type": "execute_result",
          "execution_count": 3,
          "data": {
            "text/html": "<div>\n<style scoped>\n    .dataframe tbody tr th:only-of-type {\n        vertical-align: middle;\n    }\n\n    .dataframe tbody tr th {\n        vertical-align: top;\n    }\n\n    .dataframe thead th {\n        text-align: right;\n    }\n</style>\n<table border=\"1\" class=\"dataframe\">\n  <thead>\n    <tr style=\"text-align: right;\">\n      <th></th>\n      <th>abuse</th>\n      <th>adverse_reactions</th>\n      <th>adverse_reactions_table</th>\n      <th>animal_pharmacology_and_or_toxicology</th>\n      <th>boxed_warning</th>\n      <th>carcinogenesis_and_mutagenesis_and_impairment_of_fertility</th>\n      <th>clinical_pharmacology</th>\n      <th>clinical_pharmacology_table</th>\n      <th>clinical_studies</th>\n      <th>clinical_studies_table</th>\n      <th>...</th>\n      <th>spl_unclassified_section</th>\n      <th>storage_and_handling</th>\n      <th>storage_and_handling_table</th>\n      <th>teratogenic_effects</th>\n      <th>use_in_specific_populations</th>\n      <th>use_in_specific_populations_table</th>\n      <th>version</th>\n      <th>warnings</th>\n      <th>warnings_and_cautions</th>\n      <th>warnings_and_cautions_table</th>\n    </tr>\n  </thead>\n  <tbody>\n    <tr>\n      <th>0</th>\n      <td>NaN</td>\n      <td>[6. ADVERSE REACTIONS Because clinical trials ...</td>\n      <td>[&lt;table ID=\"_RefID0EHMAC\" width=\"100%\"&gt; &lt;capti...</td>\n      <td>NaN</td>\n      <td>NaN</td>\n      <td>[13.1. Carcinogenesis, Mutagenesis, Impairment...</td>\n      <td>[12. CLINICAL PHARMACOLOGY 12.1. Mechanism of ...</td>\n      <td>[&lt;table width=\"100%\"&gt; &lt;caption&gt;Table 3. Pharma...</td>\n      <td>[14. CLINICAL STUDIES 14.1. CASODEX 50 mg Dail...</td>\n      <td>NaN</td>\n      <td>...</td>\n      <td>NaN</td>\n      <td>[16.1. Storage and Handling Store at controlle...</td>\n      <td>NaN</td>\n      <td>NaN</td>\n      <td>[8. USE IN SPECIFIC POPULATIONS •Females and M...</td>\n      <td>[&lt;table ID=\"_RefID0EXPAE\" width=\"100%\"&gt; &lt;capti...</td>\n      <td>20</td>\n      <td>NaN</td>\n      <td>[5. WARNINGS AND PRECAUTIONS •Severe hepatic i...</td>\n      <td>NaN</td>\n    </tr>\n    <tr>\n      <th>1</th>\n      <td>[9.2 Abuse SEROQUEL has not been systematicall...</td>\n      <td>[6 ADVERSE REACTIONS The following adverse rea...</td>\n      <td>[&lt;table ID=\"_RefID0EBEBI\" width=\"100%\"&gt; &lt;capti...</td>\n      <td>[13.2 Animal Toxicology and/or Pharmacology Qu...</td>\n      <td>[WARNING: INCREASED MORTALITY IN ELDERLY PATIE...</td>\n      <td>[13.1 Carcinogenesis, Mutagenesis, Impairment ...</td>\n      <td>[12 CLINICAL PHARMACOLOGY 12.1 Mechanism of Ac...</td>\n      <td>[&lt;table ID=\"_RefID0EGZBK\" width=\"100%\"&gt; &lt;capti...</td>\n      <td>[14 CLINICAL STUDIES 14.1 Schizophrenia Short-...</td>\n      <td>[&lt;table ID=\"_RefID0EXJCK\" width=\"100%\"&gt; &lt;capti...</td>\n      <td>...</td>\n      <td>NaN</td>\n      <td>NaN</td>\n      <td>NaN</td>\n      <td>NaN</td>\n      <td>[8 USE IN SPECIFIC POPULATIONS • Pregnancy: Li...</td>\n      <td>NaN</td>\n      <td>40</td>\n      <td>NaN</td>\n      <td>[5 WARNINGS AND PRECAUTIONS • Cerebrovascular ...</td>\n      <td>[&lt;table ID=\"_RefID0EO2AG\" width=\"100%\"&gt; &lt;capti...</td>\n    </tr>\n    <tr>\n      <th>2</th>\n      <td>NaN</td>\n      <td>[6 ADVERSE REACTIONS Serious adverse reactions...</td>\n      <td>[&lt;table ID=\"_RefID0ERAAE\" width=\"100%\"&gt; &lt;capti...</td>\n      <td>[13.2 Animal Toxicology and/or Pharmacology Re...</td>\n      <td>NaN</td>\n      <td>[13.1 Carcinogenesis, Mutagenesis, Impairment ...</td>\n      <td>[12 CLINICAL PHARMACOLOGY 12.1 Mechanism of Ac...</td>\n      <td>NaN</td>\n      <td>[14 CLINICAL STUDIES 14.1 Adjuvant Treatment o...</td>\n      <td>[&lt;table ID=\"_Refrowellsl1231183834160\" width=\"...</td>\n      <td>...</td>\n      <td>NaN</td>\n      <td>[Storage Store at controlled room temperature,...</td>\n      <td>NaN</td>\n      <td>NaN</td>\n      <td>[8 USE IN SPECIFIC POPULATIONS •Pediatric pati...</td>\n      <td>NaN</td>\n      <td>20</td>\n      <td>NaN</td>\n      <td>[5 WARNINGS AND PRECAUTIONS •In women with pre...</td>\n      <td>NaN</td>\n    </tr>\n    <tr>\n      <th>3</th>\n      <td>NaN</td>\n      <td>[6 ADVERSE REACTIONS The following serious adv...</td>\n      <td>[&lt;table width=\"100%\"&gt; &lt;caption&gt;Table 1: Advers...</td>\n      <td>NaN</td>\n      <td>[WARNING: RISK OF THYROID C-CELL TUMORS • Exen...</td>\n      <td>[13.1 Carcinogenesis, Mutagenesis, Impairment ...</td>\n      <td>[12 CLINICAL PHARMACOLOGY 12.1 Mechanism of Ac...</td>\n      <td>NaN</td>\n      <td>[14 CLINICAL STUDIES 14.1 Glycemic Control Tri...</td>\n      <td>[&lt;table width=\"100%\"&gt; &lt;caption&gt;Table 4: Result...</td>\n      <td>...</td>\n      <td>NaN</td>\n      <td>NaN</td>\n      <td>NaN</td>\n      <td>NaN</td>\n      <td>[8 USE IN SPECIFIC POPULATIONS • Pregnancy: Us...</td>\n      <td>NaN</td>\n      <td>11</td>\n      <td>NaN</td>\n      <td>[5 WARNINGS AND PRECAUTIONS • Acute Pancreatit...</td>\n      <td>NaN</td>\n    </tr>\n    <tr>\n      <th>4</th>\n      <td>NaN</td>\n      <td>[6 ADVERSE REACTIONS Systemic and inhaled cort...</td>\n      <td>[&lt;table ID=\"_RefID0EWNAE\" width=\"100%\"&gt; &lt;capti...</td>\n      <td>[13.2 Animal Toxicology Reproductive Toxicolog...</td>\n      <td>NaN</td>\n      <td>[13.1 Carcinogenesis, Mutagenesis, Impairment ...</td>\n      <td>[12 CLINICAL PHARMACOLOGY 12.1 Mechanism of Ac...</td>\n      <td>NaN</td>\n      <td>[14 CLINICAL STUDIES Three double-blind, place...</td>\n      <td>NaN</td>\n      <td>...</td>\n      <td>NaN</td>\n      <td>NaN</td>\n      <td>NaN</td>\n      <td>NaN</td>\n      <td>[8 USE IN SPECIFIC POPULATIONS 8.1 Pregnancy T...</td>\n      <td>NaN</td>\n      <td>19</td>\n      <td>NaN</td>\n      <td>[5 WARNINGS AND PRECAUTIONS • Localized Infect...</td>\n      <td>NaN</td>\n    </tr>\n  </tbody>\n</table>\n<p>5 rows × 82 columns</p>\n</div>",
            "text/plain": "                                               abuse  \\\n0                                                NaN   \n1  [9.2 Abuse SEROQUEL has not been systematicall...   \n2                                                NaN   \n3                                                NaN   \n4                                                NaN   \n\n                                   adverse_reactions  \\\n0  [6. ADVERSE REACTIONS Because clinical trials ...   \n1  [6 ADVERSE REACTIONS The following adverse rea...   \n2  [6 ADVERSE REACTIONS Serious adverse reactions...   \n3  [6 ADVERSE REACTIONS The following serious adv...   \n4  [6 ADVERSE REACTIONS Systemic and inhaled cort...   \n\n                             adverse_reactions_table  \\\n0  [<table ID=\"_RefID0EHMAC\" width=\"100%\"> <capti...   \n1  [<table ID=\"_RefID0EBEBI\" width=\"100%\"> <capti...   \n2  [<table ID=\"_RefID0ERAAE\" width=\"100%\"> <capti...   \n3  [<table width=\"100%\"> <caption>Table 1: Advers...   \n4  [<table ID=\"_RefID0EWNAE\" width=\"100%\"> <capti...   \n\n               animal_pharmacology_and_or_toxicology  \\\n0                                                NaN   \n1  [13.2 Animal Toxicology and/or Pharmacology Qu...   \n2  [13.2 Animal Toxicology and/or Pharmacology Re...   \n3                                                NaN   \n4  [13.2 Animal Toxicology Reproductive Toxicolog...   \n\n                                       boxed_warning  \\\n0                                                NaN   \n1  [WARNING: INCREASED MORTALITY IN ELDERLY PATIE...   \n2                                                NaN   \n3  [WARNING: RISK OF THYROID C-CELL TUMORS • Exen...   \n4                                                NaN   \n\n  carcinogenesis_and_mutagenesis_and_impairment_of_fertility  \\\n0  [13.1. Carcinogenesis, Mutagenesis, Impairment...           \n1  [13.1 Carcinogenesis, Mutagenesis, Impairment ...           \n2  [13.1 Carcinogenesis, Mutagenesis, Impairment ...           \n3  [13.1 Carcinogenesis, Mutagenesis, Impairment ...           \n4  [13.1 Carcinogenesis, Mutagenesis, Impairment ...           \n\n                               clinical_pharmacology  \\\n0  [12. CLINICAL PHARMACOLOGY 12.1. Mechanism of ...   \n1  [12 CLINICAL PHARMACOLOGY 12.1 Mechanism of Ac...   \n2  [12 CLINICAL PHARMACOLOGY 12.1 Mechanism of Ac...   \n3  [12 CLINICAL PHARMACOLOGY 12.1 Mechanism of Ac...   \n4  [12 CLINICAL PHARMACOLOGY 12.1 Mechanism of Ac...   \n\n                         clinical_pharmacology_table  \\\n0  [<table width=\"100%\"> <caption>Table 3. Pharma...   \n1  [<table ID=\"_RefID0EGZBK\" width=\"100%\"> <capti...   \n2                                                NaN   \n3                                                NaN   \n4                                                NaN   \n\n                                    clinical_studies  \\\n0  [14. CLINICAL STUDIES 14.1. CASODEX 50 mg Dail...   \n1  [14 CLINICAL STUDIES 14.1 Schizophrenia Short-...   \n2  [14 CLINICAL STUDIES 14.1 Adjuvant Treatment o...   \n3  [14 CLINICAL STUDIES 14.1 Glycemic Control Tri...   \n4  [14 CLINICAL STUDIES Three double-blind, place...   \n\n                              clinical_studies_table  \\\n0                                                NaN   \n1  [<table ID=\"_RefID0EXJCK\" width=\"100%\"> <capti...   \n2  [<table ID=\"_Refrowellsl1231183834160\" width=\"...   \n3  [<table width=\"100%\"> <caption>Table 4: Result...   \n4                                                NaN   \n\n                         ...                         spl_unclassified_section  \\\n0                        ...                                              NaN   \n1                        ...                                              NaN   \n2                        ...                                              NaN   \n3                        ...                                              NaN   \n4                        ...                                              NaN   \n\n                                storage_and_handling  \\\n0  [16.1. Storage and Handling Store at controlle...   \n1                                                NaN   \n2  [Storage Store at controlled room temperature,...   \n3                                                NaN   \n4                                                NaN   \n\n  storage_and_handling_table teratogenic_effects  \\\n0                        NaN                 NaN   \n1                        NaN                 NaN   \n2                        NaN                 NaN   \n3                        NaN                 NaN   \n4                        NaN                 NaN   \n\n                         use_in_specific_populations  \\\n0  [8. USE IN SPECIFIC POPULATIONS •Females and M...   \n1  [8 USE IN SPECIFIC POPULATIONS • Pregnancy: Li...   \n2  [8 USE IN SPECIFIC POPULATIONS •Pediatric pati...   \n3  [8 USE IN SPECIFIC POPULATIONS • Pregnancy: Us...   \n4  [8 USE IN SPECIFIC POPULATIONS 8.1 Pregnancy T...   \n\n                   use_in_specific_populations_table version warnings  \\\n0  [<table ID=\"_RefID0EXPAE\" width=\"100%\"> <capti...      20      NaN   \n1                                                NaN      40      NaN   \n2                                                NaN      20      NaN   \n3                                                NaN      11      NaN   \n4                                                NaN      19      NaN   \n\n                               warnings_and_cautions  \\\n0  [5. WARNINGS AND PRECAUTIONS •Severe hepatic i...   \n1  [5 WARNINGS AND PRECAUTIONS • Cerebrovascular ...   \n2  [5 WARNINGS AND PRECAUTIONS •In women with pre...   \n3  [5 WARNINGS AND PRECAUTIONS • Acute Pancreatit...   \n4  [5 WARNINGS AND PRECAUTIONS • Localized Infect...   \n\n                         warnings_and_cautions_table  \n0                                                NaN  \n1  [<table ID=\"_RefID0EO2AG\" width=\"100%\"> <capti...  \n2                                                NaN  \n3                                                NaN  \n4                                                NaN  \n\n[5 rows x 82 columns]"
          },
          "metadata": {}
        }
      ]
    },
    {
      "metadata": {
        "trusted": true
      },
      "cell_type": "code",
      "source": "data_a.shape",
      "execution_count": 4,
      "outputs": [
        {
          "output_type": "execute_result",
          "execution_count": 4,
          "data": {
            "text/plain": "(45, 82)"
          },
          "metadata": {}
        }
      ]
    },
    {
      "metadata": {
        "trusted": true,
        "scrolled": true
      },
      "cell_type": "code",
      "source": "data_a.columns",
      "execution_count": 5,
      "outputs": [
        {
          "output_type": "execute_result",
          "execution_count": 5,
          "data": {
            "text/plain": "Index(['abuse', 'adverse_reactions', 'adverse_reactions_table',\n       'animal_pharmacology_and_or_toxicology', 'boxed_warning',\n       'carcinogenesis_and_mutagenesis_and_impairment_of_fertility',\n       'clinical_pharmacology', 'clinical_pharmacology_table',\n       'clinical_studies', 'clinical_studies_table', 'contraindications',\n       'controlled_substance', 'description', 'dosage_and_administration',\n       'dosage_and_administration_table', 'dosage_forms_and_strengths',\n       'drug_abuse_and_dependence', 'drug_interactions',\n       'drug_interactions_table', 'effective_time', 'general_precautions',\n       'geriatric_use', 'how_supplied', 'how_supplied_table', 'id',\n       'indications_and_usage', 'information_for_patients',\n       'information_for_patients_table', 'instructions_for_use',\n       'instructions_for_use_table', 'labor_and_delivery', 'laboratory_tests',\n       'mechanism_of_action', 'mechanism_of_action_table',\n       'nonclinical_toxicology', 'nursing_mothers',\n       'openfda.application_number', 'openfda.brand_name',\n       'openfda.generic_name', 'openfda.is_original_packager',\n       'openfda.manufacturer_name', 'openfda.package_ndc',\n       'openfda.product_ndc', 'openfda.product_type', 'openfda.route',\n       'openfda.rxcui', 'openfda.spl_id', 'openfda.spl_set_id',\n       'openfda.substance_name', 'openfda.unii', 'openfda.upc', 'overdosage',\n       'package_label_principal_display_panel',\n       'package_label_principal_display_panel_table', 'pediatric_use',\n       'pediatric_use_table', 'pharmacodynamics', 'pharmacodynamics_table',\n       'pharmacokinetics', 'pharmacokinetics_table', 'precautions',\n       'pregnancy', 'recent_major_changes', 'recent_major_changes_table',\n       'references', 'risks', 'set_id', 'spl_medguide', 'spl_medguide_table',\n       'spl_patient_package_insert', 'spl_patient_package_insert_table',\n       'spl_product_data_elements', 'spl_unclassified_section',\n       'storage_and_handling', 'storage_and_handling_table',\n       'teratogenic_effects', 'use_in_specific_populations',\n       'use_in_specific_populations_table', 'version', 'warnings',\n       'warnings_and_cautions', 'warnings_and_cautions_table'],\n      dtype='object')"
          },
          "metadata": {}
        }
      ]
    },
    {
      "metadata": {
        "trusted": true,
        "scrolled": true
      },
      "cell_type": "code",
      "source": "#creating a new column, extracting the year from effective_time\ndata_a['year'] = data_a['effective_time'].apply(lambda i: int(i[0:4]))",
      "execution_count": 6,
      "outputs": []
    },
    {
      "metadata": {
        "trusted": true
      },
      "cell_type": "code",
      "source": "#extracting the relavent columns for the analysis\ndata_a = data_a[['openfda.generic_name','year','spl_product_data_elements']]\ndata_a.head()",
      "execution_count": 7,
      "outputs": [
        {
          "output_type": "execute_result",
          "execution_count": 7,
          "data": {
            "text/html": "<div>\n<style scoped>\n    .dataframe tbody tr th:only-of-type {\n        vertical-align: middle;\n    }\n\n    .dataframe tbody tr th {\n        vertical-align: top;\n    }\n\n    .dataframe thead th {\n        text-align: right;\n    }\n</style>\n<table border=\"1\" class=\"dataframe\">\n  <thead>\n    <tr style=\"text-align: right;\">\n      <th></th>\n      <th>openfda.generic_name</th>\n      <th>year</th>\n      <th>spl_product_data_elements</th>\n    </tr>\n  </thead>\n  <tbody>\n    <tr>\n      <th>0</th>\n      <td>[BICALUTAMIDE]</td>\n      <td>2017</td>\n      <td>[CASODEX Bicalutamide BICALUTAMIDE BICALUTAMID...</td>\n    </tr>\n    <tr>\n      <th>1</th>\n      <td>[QUETIAPINE FUMARATE]</td>\n      <td>2018</td>\n      <td>[SEROQUEL Quetiapine fumarate QUETIAPINE FUMAR...</td>\n    </tr>\n    <tr>\n      <th>2</th>\n      <td>[ANASTROZOLE]</td>\n      <td>2014</td>\n      <td>[ARIMIDEX Anastrozole ANASTROZOLE ANASTROZOLE ...</td>\n    </tr>\n    <tr>\n      <th>3</th>\n      <td>[EXENATIDE]</td>\n      <td>2019</td>\n      <td>[BYDUREON BCise exenatide EXENATIDE EXENATIDE ...</td>\n    </tr>\n    <tr>\n      <th>4</th>\n      <td>[BUDESONIDE]</td>\n      <td>2016</td>\n      <td>[PULMICORT RESPULES Budesonide BUDESONIDE BUDE...</td>\n    </tr>\n  </tbody>\n</table>\n</div>",
            "text/plain": "    openfda.generic_name  year  \\\n0         [BICALUTAMIDE]  2017   \n1  [QUETIAPINE FUMARATE]  2018   \n2          [ANASTROZOLE]  2014   \n3            [EXENATIDE]  2019   \n4           [BUDESONIDE]  2016   \n\n                           spl_product_data_elements  \n0  [CASODEX Bicalutamide BICALUTAMIDE BICALUTAMID...  \n1  [SEROQUEL Quetiapine fumarate QUETIAPINE FUMAR...  \n2  [ARIMIDEX Anastrozole ANASTROZOLE ANASTROZOLE ...  \n3  [BYDUREON BCise exenatide EXENATIDE EXENATIDE ...  \n4  [PULMICORT RESPULES Budesonide BUDESONIDE BUDE...  "
          },
          "metadata": {}
        }
      ]
    },
    {
      "metadata": {
        "trusted": true
      },
      "cell_type": "code",
      "source": "data_a.info() # There is no missing data",
      "execution_count": 8,
      "outputs": [
        {
          "output_type": "stream",
          "text": "<class 'pandas.core.frame.DataFrame'>\nRangeIndex: 45 entries, 0 to 44\nData columns (total 3 columns):\nopenfda.generic_name         45 non-null object\nyear                         45 non-null int64\nspl_product_data_elements    45 non-null object\ndtypes: int64(1), object(2)\nmemory usage: 1.1+ KB\n",
          "name": "stdout"
        }
      ]
    },
    {
      "metadata": {
        "trusted": true
      },
      "cell_type": "code",
      "source": "sorted(data_a['year'].unique())#no data for 2015",
      "execution_count": 9,
      "outputs": [
        {
          "output_type": "execute_result",
          "execution_count": 9,
          "data": {
            "text/plain": "[2014, 2016, 2017, 2018, 2019]"
          },
          "metadata": {}
        }
      ]
    },
    {
      "metadata": {
        "trusted": true
      },
      "cell_type": "code",
      "source": "# Filtering through the \"spl_product_data_elements\" column to count the number of ingredients\n# Assuming that each ingredient is sperated by a comma\ndata_a['number_of_ingredients'] = data_a['spl_product_data_elements'].apply(lambda x: len(''.join(x).split(',')))\ndata_a = data_a.drop('spl_product_data_elements', axis=1)",
      "execution_count": 10,
      "outputs": []
    },
    {
      "metadata": {
        "trusted": true
      },
      "cell_type": "code",
      "source": "data_a.head()",
      "execution_count": 11,
      "outputs": [
        {
          "output_type": "execute_result",
          "execution_count": 11,
          "data": {
            "text/html": "<div>\n<style scoped>\n    .dataframe tbody tr th:only-of-type {\n        vertical-align: middle;\n    }\n\n    .dataframe tbody tr th {\n        vertical-align: top;\n    }\n\n    .dataframe thead th {\n        text-align: right;\n    }\n</style>\n<table border=\"1\" class=\"dataframe\">\n  <thead>\n    <tr style=\"text-align: right;\">\n      <th></th>\n      <th>openfda.generic_name</th>\n      <th>year</th>\n      <th>number_of_ingredients</th>\n    </tr>\n  </thead>\n  <tbody>\n    <tr>\n      <th>0</th>\n      <td>[BICALUTAMIDE]</td>\n      <td>2017</td>\n      <td>2</td>\n    </tr>\n    <tr>\n      <th>1</th>\n      <td>[QUETIAPINE FUMARATE]</td>\n      <td>2018</td>\n      <td>31</td>\n    </tr>\n    <tr>\n      <th>2</th>\n      <td>[ANASTROZOLE]</td>\n      <td>2014</td>\n      <td>4</td>\n    </tr>\n    <tr>\n      <th>3</th>\n      <td>[EXENATIDE]</td>\n      <td>2019</td>\n      <td>7</td>\n    </tr>\n    <tr>\n      <th>4</th>\n      <td>[BUDESONIDE]</td>\n      <td>2016</td>\n      <td>4</td>\n    </tr>\n  </tbody>\n</table>\n</div>",
            "text/plain": "    openfda.generic_name  year  number_of_ingredients\n0         [BICALUTAMIDE]  2017                      2\n1  [QUETIAPINE FUMARATE]  2018                     31\n2          [ANASTROZOLE]  2014                      4\n3            [EXENATIDE]  2019                      7\n4           [BUDESONIDE]  2016                      4"
          },
          "metadata": {}
        }
      ]
    },
    {
      "metadata": {
        "trusted": true
      },
      "cell_type": "code",
      "source": "data_a = data_a.groupby('year', as_index=False).agg({'openfda.generic_name':'sum','number_of_ingredients':'mean'})\ndata_a.columns = ['year','drug_name','avg_number_of_ingredients']\ndata_a",
      "execution_count": 12,
      "outputs": [
        {
          "output_type": "execute_result",
          "execution_count": 12,
          "data": {
            "text/html": "<div>\n<style scoped>\n    .dataframe tbody tr th:only-of-type {\n        vertical-align: middle;\n    }\n\n    .dataframe tbody tr th {\n        vertical-align: top;\n    }\n\n    .dataframe thead th {\n        text-align: right;\n    }\n</style>\n<table border=\"1\" class=\"dataframe\">\n  <thead>\n    <tr style=\"text-align: right;\">\n      <th></th>\n      <th>year</th>\n      <th>drug_name</th>\n      <th>avg_number_of_ingredients</th>\n    </tr>\n  </thead>\n  <tbody>\n    <tr>\n      <th>0</th>\n      <td>2014</td>\n      <td>[ANASTROZOLE]</td>\n      <td>4.000000</td>\n    </tr>\n    <tr>\n      <th>1</th>\n      <td>2016</td>\n      <td>[BUDESONIDE, CANDESARTAN CILEXETIL AND HYDROCH...</td>\n      <td>3.166667</td>\n    </tr>\n    <tr>\n      <th>2</th>\n      <td>2017</td>\n      <td>[BICALUTAMIDE, QUETIAPINE FUMARATE, GLYCOPYRRO...</td>\n      <td>3.500000</td>\n    </tr>\n    <tr>\n      <th>3</th>\n      <td>2018</td>\n      <td>[QUETIAPINE FUMARATE, DAPAGLIFLOZIN AND SAXAGL...</td>\n      <td>6.150000</td>\n    </tr>\n    <tr>\n      <th>4</th>\n      <td>2019</td>\n      <td>[EXENATIDE, EXENATIDE, DAPAGLIFLOZIN, FULVESTR...</td>\n      <td>5.166667</td>\n    </tr>\n  </tbody>\n</table>\n</div>",
            "text/plain": "   year                                          drug_name  \\\n0  2014                                      [ANASTROZOLE]   \n1  2016  [BUDESONIDE, CANDESARTAN CILEXETIL AND HYDROCH...   \n2  2017  [BICALUTAMIDE, QUETIAPINE FUMARATE, GLYCOPYRRO...   \n3  2018  [QUETIAPINE FUMARATE, DAPAGLIFLOZIN AND SAXAGL...   \n4  2019  [EXENATIDE, EXENATIDE, DAPAGLIFLOZIN, FULVESTR...   \n\n   avg_number_of_ingredients  \n0                   4.000000  \n1                   3.166667  \n2                   3.500000  \n3                   6.150000  \n4                   5.166667  "
          },
          "metadata": {}
        }
      ]
    },
    {
      "metadata": {
        "trusted": true
      },
      "cell_type": "code",
      "source": "plt.plot(data_a['year'], data_a['avg_number_of_ingredients'], marker = 'o')\nplt.xlabel('Year')\nplt.ylabel('Average Number of Ingredients')\nplt.title('Average Number of Ingredients per Year for Astrazeneca')\nplt.show()",
      "execution_count": 13,
      "outputs": [
        {
          "output_type": "display_data",
          "data": {
            "image/png": "[encoded data removed]",
            "text/plain": "<Figure size 432x288 with 1 Axes>"
          },
          "metadata": {
            "needs_background": "light"
          }
        }
      ]
    },
    {
      "metadata": {},
      "cell_type": "markdown",
      "source": "# Part B"
    },
    {
      "metadata": {},
      "cell_type": "markdown",
      "source": "Repeat the same analysis, calculate the average number of ingredients per year and per delivery route for all manufacturers."
    },
    {
      "metadata": {},
      "cell_type": "markdown",
      "source": "## Loading the Data"
    },
    {
      "metadata": {
        "trusted": true,
        "scrolled": true
      },
      "cell_type": "code",
      "source": "# Loading in data from API\n# Importing the maximum amount of data\nurl = 'https://api.fda.gov/drug/label.json?api_key=FXCYXSRdxeSo3PfLsFd65xisIDww4Qto2a7uYsM2&limit=100'\nrequest = urllib.request.urlopen(url) \n\nload = json.loads(request.read())\ndata_b = json_normalize(load['results'])\ndata_b.head()",
      "execution_count": 14,
      "outputs": [
        {
          "output_type": "execute_result",
          "execution_count": 14,
          "data": {
            "text/html": "<div>\n<style scoped>\n    .dataframe tbody tr th:only-of-type {\n        vertical-align: middle;\n    }\n\n    .dataframe tbody tr th {\n        vertical-align: top;\n    }\n\n    .dataframe thead th {\n        text-align: right;\n    }\n</style>\n<table border=\"1\" class=\"dataframe\">\n  <thead>\n    <tr style=\"text-align: right;\">\n      <th></th>\n      <th>abuse</th>\n      <th>active_ingredient</th>\n      <th>active_ingredient_table</th>\n      <th>adverse_reactions</th>\n      <th>adverse_reactions_table</th>\n      <th>animal_pharmacology_and_or_toxicology</th>\n      <th>ask_doctor</th>\n      <th>ask_doctor_or_pharmacist</th>\n      <th>boxed_warning</th>\n      <th>carcinogenesis_and_mutagenesis_and_impairment_of_fertility</th>\n      <th>...</th>\n      <th>teratogenic_effects</th>\n      <th>use_in_specific_populations</th>\n      <th>use_in_specific_populations_table</th>\n      <th>user_safety_warnings</th>\n      <th>version</th>\n      <th>warnings</th>\n      <th>warnings_and_cautions</th>\n      <th>warnings_and_cautions_table</th>\n      <th>warnings_table</th>\n      <th>when_using</th>\n    </tr>\n  </thead>\n  <tbody>\n    <tr>\n      <th>0</th>\n      <td>NaN</td>\n      <td>[ACTIVE INGREDIENT SILICEA HPUS 2X and higher]</td>\n      <td>NaN</td>\n      <td>NaN</td>\n      <td>NaN</td>\n      <td>NaN</td>\n      <td>NaN</td>\n      <td>NaN</td>\n      <td>NaN</td>\n      <td>NaN</td>\n      <td>...</td>\n      <td>NaN</td>\n      <td>NaN</td>\n      <td>NaN</td>\n      <td>NaN</td>\n      <td>1</td>\n      <td>[WARNINGS This product is to be used for self-...</td>\n      <td>NaN</td>\n      <td>NaN</td>\n      <td>NaN</td>\n      <td>NaN</td>\n    </tr>\n    <tr>\n      <th>1</th>\n      <td>NaN</td>\n      <td>[BRONZE ACTIVE INGREDIENTS: TITANIUM DIOXIDE 2...</td>\n      <td>NaN</td>\n      <td>NaN</td>\n      <td>NaN</td>\n      <td>NaN</td>\n      <td>NaN</td>\n      <td>NaN</td>\n      <td>NaN</td>\n      <td>NaN</td>\n      <td>...</td>\n      <td>NaN</td>\n      <td>NaN</td>\n      <td>NaN</td>\n      <td>NaN</td>\n      <td>4</td>\n      <td>[Warnings For external use only.]</td>\n      <td>NaN</td>\n      <td>NaN</td>\n      <td>NaN</td>\n      <td>[When using this product keep out of eyes. Rin...</td>\n    </tr>\n    <tr>\n      <th>2</th>\n      <td>NaN</td>\n      <td>[ACTIVE INGREDIENTS MEZEREUM]</td>\n      <td>NaN</td>\n      <td>NaN</td>\n      <td>NaN</td>\n      <td>NaN</td>\n      <td>NaN</td>\n      <td>NaN</td>\n      <td>NaN</td>\n      <td>NaN</td>\n      <td>...</td>\n      <td>NaN</td>\n      <td>NaN</td>\n      <td>NaN</td>\n      <td>NaN</td>\n      <td>2</td>\n      <td>[STOP USE AND ASK DOCTOR If symptoms persist/w...</td>\n      <td>NaN</td>\n      <td>NaN</td>\n      <td>NaN</td>\n      <td>NaN</td>\n    </tr>\n    <tr>\n      <th>3</th>\n      <td>NaN</td>\n      <td>NaN</td>\n      <td>NaN</td>\n      <td>[ADVERSE REACTIONS Ophthalmic use: The most fr...</td>\n      <td>NaN</td>\n      <td>NaN</td>\n      <td>NaN</td>\n      <td>NaN</td>\n      <td>NaN</td>\n      <td>[Carcinogenesis, Mutagenesis, Impairment of Fe...</td>\n      <td>...</td>\n      <td>NaN</td>\n      <td>NaN</td>\n      <td>NaN</td>\n      <td>NaN</td>\n      <td>1</td>\n      <td>[WARNINGS NOT FOR INJECTION. Ofloxacin ophthal...</td>\n      <td>NaN</td>\n      <td>NaN</td>\n      <td>NaN</td>\n      <td>NaN</td>\n    </tr>\n    <tr>\n      <th>4</th>\n      <td>NaN</td>\n      <td>NaN</td>\n      <td>NaN</td>\n      <td>[6 ADVERSE REACTIONS The following adverse rea...</td>\n      <td>NaN</td>\n      <td>NaN</td>\n      <td>NaN</td>\n      <td>NaN</td>\n      <td>[WARNING: RISK OF SERIOUS CARDIOVASCULAR AND G...</td>\n      <td>[13.1 Carcinogenesis, Mutagenesis, Impairment ...</td>\n      <td>...</td>\n      <td>NaN</td>\n      <td>[8 USE IN SPECIFIC POPULATIONS Pregnancy: Use ...</td>\n      <td>NaN</td>\n      <td>NaN</td>\n      <td>21</td>\n      <td>NaN</td>\n      <td>[5 WARNINGS AND PRECAUTIONS Hepatotoxicity: In...</td>\n      <td>NaN</td>\n      <td>NaN</td>\n      <td>NaN</td>\n    </tr>\n  </tbody>\n</table>\n<p>5 rows × 114 columns</p>\n</div>",
            "text/plain": "  abuse                                  active_ingredient  \\\n0   NaN     [ACTIVE INGREDIENT SILICEA HPUS 2X and higher]   \n1   NaN  [BRONZE ACTIVE INGREDIENTS: TITANIUM DIOXIDE 2...   \n2   NaN                      [ACTIVE INGREDIENTS MEZEREUM]   \n3   NaN                                                NaN   \n4   NaN                                                NaN   \n\n  active_ingredient_table                                  adverse_reactions  \\\n0                     NaN                                                NaN   \n1                     NaN                                                NaN   \n2                     NaN                                                NaN   \n3                     NaN  [ADVERSE REACTIONS Ophthalmic use: The most fr...   \n4                     NaN  [6 ADVERSE REACTIONS The following adverse rea...   \n\n  adverse_reactions_table animal_pharmacology_and_or_toxicology ask_doctor  \\\n0                     NaN                                   NaN        NaN   \n1                     NaN                                   NaN        NaN   \n2                     NaN                                   NaN        NaN   \n3                     NaN                                   NaN        NaN   \n4                     NaN                                   NaN        NaN   \n\n  ask_doctor_or_pharmacist                                      boxed_warning  \\\n0                      NaN                                                NaN   \n1                      NaN                                                NaN   \n2                      NaN                                                NaN   \n3                      NaN                                                NaN   \n4                      NaN  [WARNING: RISK OF SERIOUS CARDIOVASCULAR AND G...   \n\n  carcinogenesis_and_mutagenesis_and_impairment_of_fertility  \\\n0                                                NaN           \n1                                                NaN           \n2                                                NaN           \n3  [Carcinogenesis, Mutagenesis, Impairment of Fe...           \n4  [13.1 Carcinogenesis, Mutagenesis, Impairment ...           \n\n                         ...                         teratogenic_effects  \\\n0                        ...                                         NaN   \n1                        ...                                         NaN   \n2                        ...                                         NaN   \n3                        ...                                         NaN   \n4                        ...                                         NaN   \n\n                         use_in_specific_populations  \\\n0                                                NaN   \n1                                                NaN   \n2                                                NaN   \n3                                                NaN   \n4  [8 USE IN SPECIFIC POPULATIONS Pregnancy: Use ...   \n\n  use_in_specific_populations_table user_safety_warnings version  \\\n0                               NaN                  NaN       1   \n1                               NaN                  NaN       4   \n2                               NaN                  NaN       2   \n3                               NaN                  NaN       1   \n4                               NaN                  NaN      21   \n\n                                            warnings  \\\n0  [WARNINGS This product is to be used for self-...   \n1                  [Warnings For external use only.]   \n2  [STOP USE AND ASK DOCTOR If symptoms persist/w...   \n3  [WARNINGS NOT FOR INJECTION. Ofloxacin ophthal...   \n4                                                NaN   \n\n                               warnings_and_cautions  \\\n0                                                NaN   \n1                                                NaN   \n2                                                NaN   \n3                                                NaN   \n4  [5 WARNINGS AND PRECAUTIONS Hepatotoxicity: In...   \n\n  warnings_and_cautions_table warnings_table  \\\n0                         NaN            NaN   \n1                         NaN            NaN   \n2                         NaN            NaN   \n3                         NaN            NaN   \n4                         NaN            NaN   \n\n                                          when_using  \n0                                                NaN  \n1  [When using this product keep out of eyes. Rin...  \n2                                                NaN  \n3                                                NaN  \n4                                                NaN  \n\n[5 rows x 114 columns]"
          },
          "metadata": {}
        }
      ]
    },
    {
      "metadata": {
        "trusted": true
      },
      "cell_type": "code",
      "source": "data_b.shape",
      "execution_count": 15,
      "outputs": [
        {
          "output_type": "execute_result",
          "execution_count": 15,
          "data": {
            "text/plain": "(100, 114)"
          },
          "metadata": {}
        }
      ]
    },
    {
      "metadata": {
        "trusted": true
      },
      "cell_type": "code",
      "source": "data_b = data_b[['effective_time','spl_product_data_elements','openfda.route']]\ndata_b.head()",
      "execution_count": 16,
      "outputs": [
        {
          "output_type": "execute_result",
          "execution_count": 16,
          "data": {
            "text/html": "<div>\n<style scoped>\n    .dataframe tbody tr th:only-of-type {\n        vertical-align: middle;\n    }\n\n    .dataframe tbody tr th {\n        vertical-align: top;\n    }\n\n    .dataframe thead th {\n        text-align: right;\n    }\n</style>\n<table border=\"1\" class=\"dataframe\">\n  <thead>\n    <tr style=\"text-align: right;\">\n      <th></th>\n      <th>effective_time</th>\n      <th>spl_product_data_elements</th>\n      <th>openfda.route</th>\n    </tr>\n  </thead>\n  <tbody>\n    <tr>\n      <th>0</th>\n      <td>20151102</td>\n      <td>[SILICEA SILICEA SILICON DIOXIDE COLLOIDAL SIL...</td>\n      <td>[ORAL]</td>\n    </tr>\n    <tr>\n      <th>1</th>\n      <td>20150109</td>\n      <td>[CHANTECAILLE PROTECTION NATURELLE BRONZE SPF ...</td>\n      <td>NaN</td>\n    </tr>\n    <tr>\n      <th>2</th>\n      <td>20180801</td>\n      <td>[Mezereum DAPHNE MEZEREUM BARK SUCROSE LACTOSE...</td>\n      <td>[ORAL]</td>\n    </tr>\n    <tr>\n      <th>3</th>\n      <td>20171230</td>\n      <td>[Ofloxacin Ofloxacin OFLOXACIN OFLOXACIN Sodiu...</td>\n      <td>[OPHTHALMIC]</td>\n    </tr>\n    <tr>\n      <th>4</th>\n      <td>20190124</td>\n      <td>[Naproxen Naproxen NAPROXEN NAPROXEN CROSCARME...</td>\n      <td>[ORAL]</td>\n    </tr>\n  </tbody>\n</table>\n</div>",
            "text/plain": "  effective_time                          spl_product_data_elements  \\\n0       20151102  [SILICEA SILICEA SILICON DIOXIDE COLLOIDAL SIL...   \n1       20150109  [CHANTECAILLE PROTECTION NATURELLE BRONZE SPF ...   \n2       20180801  [Mezereum DAPHNE MEZEREUM BARK SUCROSE LACTOSE...   \n3       20171230  [Ofloxacin Ofloxacin OFLOXACIN OFLOXACIN Sodiu...   \n4       20190124  [Naproxen Naproxen NAPROXEN NAPROXEN CROSCARME...   \n\n  openfda.route  \n0        [ORAL]  \n1           NaN  \n2        [ORAL]  \n3  [OPHTHALMIC]  \n4        [ORAL]  "
          },
          "metadata": {}
        }
      ]
    },
    {
      "metadata": {
        "trusted": true,
        "scrolled": true
      },
      "cell_type": "code",
      "source": "data_b.info()",
      "execution_count": 17,
      "outputs": [
        {
          "output_type": "stream",
          "text": "<class 'pandas.core.frame.DataFrame'>\nRangeIndex: 100 entries, 0 to 99\nData columns (total 3 columns):\neffective_time               100 non-null object\nspl_product_data_elements    99 non-null object\nopenfda.route                66 non-null object\ndtypes: object(3)\nmemory usage: 2.4+ KB\n",
          "name": "stdout"
        }
      ]
    },
    {
      "metadata": {},
      "cell_type": "markdown",
      "source": "## Tidying up the data"
    },
    {
      "metadata": {
        "trusted": true
      },
      "cell_type": "code",
      "source": "# Year\ndata_b['year'] = data_b['effective_time'].apply(lambda i: int(i[0:4]))\ndata_b = data_b.drop('effective_time', axis = 1)\nsorted(data_b['year'].unique())",
      "execution_count": 18,
      "outputs": [
        {
          "output_type": "execute_result",
          "execution_count": 18,
          "data": {
            "text/plain": "[2006, 2009, 2010, 2011, 2012, 2013, 2014, 2015, 2016, 2017, 2018, 2019]"
          },
          "metadata": {}
        }
      ]
    },
    {
      "metadata": {
        "trusted": true
      },
      "cell_type": "code",
      "source": "# Row with no ingredients listed\ndata_b[data_b['spl_product_data_elements'].isnull()]",
      "execution_count": 19,
      "outputs": [
        {
          "output_type": "execute_result",
          "execution_count": 19,
          "data": {
            "text/html": "<div>\n<style scoped>\n    .dataframe tbody tr th:only-of-type {\n        vertical-align: middle;\n    }\n\n    .dataframe tbody tr th {\n        vertical-align: top;\n    }\n\n    .dataframe thead th {\n        text-align: right;\n    }\n</style>\n<table border=\"1\" class=\"dataframe\">\n  <thead>\n    <tr style=\"text-align: right;\">\n      <th></th>\n      <th>spl_product_data_elements</th>\n      <th>openfda.route</th>\n      <th>year</th>\n    </tr>\n  </thead>\n  <tbody>\n    <tr>\n      <th>51</th>\n      <td>NaN</td>\n      <td>NaN</td>\n      <td>2006</td>\n    </tr>\n  </tbody>\n</table>\n</div>",
            "text/plain": "   spl_product_data_elements openfda.route  year\n51                       NaN           NaN  2006"
          },
          "metadata": {}
        }
      ]
    },
    {
      "metadata": {
        "trusted": true
      },
      "cell_type": "code",
      "source": "# Remove row with no ingredients\ndata_b = data_b.drop([51]).reset_index(drop=True)",
      "execution_count": 20,
      "outputs": []
    },
    {
      "metadata": {
        "trusted": true
      },
      "cell_type": "code",
      "source": "# Replace Null values in route with UNKNOWN\ndata_b['route'] = data_b['openfda.route'].fillna('UNKNOWN')\ndata_b = data_b.drop('openfda.route', axis = 1)\ndata_b.head()",
      "execution_count": 21,
      "outputs": [
        {
          "output_type": "execute_result",
          "execution_count": 21,
          "data": {
            "text/html": "<div>\n<style scoped>\n    .dataframe tbody tr th:only-of-type {\n        vertical-align: middle;\n    }\n\n    .dataframe tbody tr th {\n        vertical-align: top;\n    }\n\n    .dataframe thead th {\n        text-align: right;\n    }\n</style>\n<table border=\"1\" class=\"dataframe\">\n  <thead>\n    <tr style=\"text-align: right;\">\n      <th></th>\n      <th>spl_product_data_elements</th>\n      <th>year</th>\n      <th>route</th>\n    </tr>\n  </thead>\n  <tbody>\n    <tr>\n      <th>0</th>\n      <td>[SILICEA SILICEA SILICON DIOXIDE COLLOIDAL SIL...</td>\n      <td>2015</td>\n      <td>[ORAL]</td>\n    </tr>\n    <tr>\n      <th>1</th>\n      <td>[CHANTECAILLE PROTECTION NATURELLE BRONZE SPF ...</td>\n      <td>2015</td>\n      <td>UNKNOWN</td>\n    </tr>\n    <tr>\n      <th>2</th>\n      <td>[Mezereum DAPHNE MEZEREUM BARK SUCROSE LACTOSE...</td>\n      <td>2018</td>\n      <td>[ORAL]</td>\n    </tr>\n    <tr>\n      <th>3</th>\n      <td>[Ofloxacin Ofloxacin OFLOXACIN OFLOXACIN Sodiu...</td>\n      <td>2017</td>\n      <td>[OPHTHALMIC]</td>\n    </tr>\n    <tr>\n      <th>4</th>\n      <td>[Naproxen Naproxen NAPROXEN NAPROXEN CROSCARME...</td>\n      <td>2019</td>\n      <td>[ORAL]</td>\n    </tr>\n  </tbody>\n</table>\n</div>",
            "text/plain": "                           spl_product_data_elements  year         route\n0  [SILICEA SILICEA SILICON DIOXIDE COLLOIDAL SIL...  2015        [ORAL]\n1  [CHANTECAILLE PROTECTION NATURELLE BRONZE SPF ...  2015       UNKNOWN\n2  [Mezereum DAPHNE MEZEREUM BARK SUCROSE LACTOSE...  2018        [ORAL]\n3  [Ofloxacin Ofloxacin OFLOXACIN OFLOXACIN Sodiu...  2017  [OPHTHALMIC]\n4  [Naproxen Naproxen NAPROXEN NAPROXEN CROSCARME...  2019        [ORAL]"
          },
          "metadata": {}
        }
      ]
    },
    {
      "metadata": {
        "trusted": true
      },
      "cell_type": "code",
      "source": "# Number of ingredients\ndata_b['number_of_ingredients'] = data_b['spl_product_data_elements'].apply(lambda x: len(''.join(x).split(',')))\ndata_b = data_b.drop('spl_product_data_elements', axis=1)\ndata_b.head()",
      "execution_count": 22,
      "outputs": [
        {
          "output_type": "execute_result",
          "execution_count": 22,
          "data": {
            "text/html": "<div>\n<style scoped>\n    .dataframe tbody tr th:only-of-type {\n        vertical-align: middle;\n    }\n\n    .dataframe tbody tr th {\n        vertical-align: top;\n    }\n\n    .dataframe thead th {\n        text-align: right;\n    }\n</style>\n<table border=\"1\" class=\"dataframe\">\n  <thead>\n    <tr style=\"text-align: right;\">\n      <th></th>\n      <th>year</th>\n      <th>route</th>\n      <th>number_of_ingredients</th>\n    </tr>\n  </thead>\n  <tbody>\n    <tr>\n      <th>0</th>\n      <td>2015</td>\n      <td>[ORAL]</td>\n      <td>1</td>\n    </tr>\n    <tr>\n      <th>1</th>\n      <td>2015</td>\n      <td>UNKNOWN</td>\n      <td>3</td>\n    </tr>\n    <tr>\n      <th>2</th>\n      <td>2018</td>\n      <td>[ORAL]</td>\n      <td>1</td>\n    </tr>\n    <tr>\n      <th>3</th>\n      <td>2017</td>\n      <td>[OPHTHALMIC]</td>\n      <td>1</td>\n    </tr>\n    <tr>\n      <th>4</th>\n      <td>2019</td>\n      <td>[ORAL]</td>\n      <td>2</td>\n    </tr>\n  </tbody>\n</table>\n</div>",
            "text/plain": "   year         route  number_of_ingredients\n0  2015        [ORAL]                      1\n1  2015       UNKNOWN                      3\n2  2018        [ORAL]                      1\n3  2017  [OPHTHALMIC]                      1\n4  2019        [ORAL]                      2"
          },
          "metadata": {}
        }
      ]
    },
    {
      "metadata": {
        "trusted": true
      },
      "cell_type": "code",
      "source": "# tidying route column\ndata_b['route'] = data_b['route'].apply(lambda x: ''.join(x))\ndata_b.head()",
      "execution_count": 23,
      "outputs": [
        {
          "output_type": "execute_result",
          "execution_count": 23,
          "data": {
            "text/html": "<div>\n<style scoped>\n    .dataframe tbody tr th:only-of-type {\n        vertical-align: middle;\n    }\n\n    .dataframe tbody tr th {\n        vertical-align: top;\n    }\n\n    .dataframe thead th {\n        text-align: right;\n    }\n</style>\n<table border=\"1\" class=\"dataframe\">\n  <thead>\n    <tr style=\"text-align: right;\">\n      <th></th>\n      <th>year</th>\n      <th>route</th>\n      <th>number_of_ingredients</th>\n    </tr>\n  </thead>\n  <tbody>\n    <tr>\n      <th>0</th>\n      <td>2015</td>\n      <td>ORAL</td>\n      <td>1</td>\n    </tr>\n    <tr>\n      <th>1</th>\n      <td>2015</td>\n      <td>UNKNOWN</td>\n      <td>3</td>\n    </tr>\n    <tr>\n      <th>2</th>\n      <td>2018</td>\n      <td>ORAL</td>\n      <td>1</td>\n    </tr>\n    <tr>\n      <th>3</th>\n      <td>2017</td>\n      <td>OPHTHALMIC</td>\n      <td>1</td>\n    </tr>\n    <tr>\n      <th>4</th>\n      <td>2019</td>\n      <td>ORAL</td>\n      <td>2</td>\n    </tr>\n  </tbody>\n</table>\n</div>",
            "text/plain": "   year       route  number_of_ingredients\n0  2015        ORAL                      1\n1  2015     UNKNOWN                      3\n2  2018        ORAL                      1\n3  2017  OPHTHALMIC                      1\n4  2019        ORAL                      2"
          },
          "metadata": {}
        }
      ]
    },
    {
      "metadata": {
        "trusted": true
      },
      "cell_type": "code",
      "source": "data_b.info()",
      "execution_count": 24,
      "outputs": [
        {
          "output_type": "stream",
          "text": "<class 'pandas.core.frame.DataFrame'>\nRangeIndex: 99 entries, 0 to 98\nData columns (total 3 columns):\nyear                     99 non-null int64\nroute                    99 non-null object\nnumber_of_ingredients    99 non-null int64\ndtypes: int64(2), object(1)\nmemory usage: 2.4+ KB\n",
          "name": "stdout"
        }
      ]
    },
    {
      "metadata": {},
      "cell_type": "markdown",
      "source": "## Output Table"
    },
    {
      "metadata": {
        "trusted": true
      },
      "cell_type": "code",
      "source": "data_b = data_b.groupby(['year','route'], as_index=False).mean()\ndata_b",
      "execution_count": 25,
      "outputs": [
        {
          "output_type": "execute_result",
          "execution_count": 25,
          "data": {
            "text/html": "<div>\n<style scoped>\n    .dataframe tbody tr th:only-of-type {\n        vertical-align: middle;\n    }\n\n    .dataframe tbody tr th {\n        vertical-align: top;\n    }\n\n    .dataframe thead th {\n        text-align: right;\n    }\n</style>\n<table border=\"1\" class=\"dataframe\">\n  <thead>\n    <tr style=\"text-align: right;\">\n      <th></th>\n      <th>year</th>\n      <th>route</th>\n      <th>number_of_ingredients</th>\n    </tr>\n  </thead>\n  <tbody>\n    <tr>\n      <th>0</th>\n      <td>2009</td>\n      <td>INTRADERMALSUBCUTANEOUS</td>\n      <td>1.000000</td>\n    </tr>\n    <tr>\n      <th>1</th>\n      <td>2009</td>\n      <td>ORAL</td>\n      <td>2.000000</td>\n    </tr>\n    <tr>\n      <th>2</th>\n      <td>2009</td>\n      <td>TOPICAL</td>\n      <td>1.000000</td>\n    </tr>\n    <tr>\n      <th>3</th>\n      <td>2009</td>\n      <td>UNKNOWN</td>\n      <td>2.000000</td>\n    </tr>\n    <tr>\n      <th>4</th>\n      <td>2010</td>\n      <td>ORAL</td>\n      <td>2.000000</td>\n    </tr>\n    <tr>\n      <th>5</th>\n      <td>2010</td>\n      <td>TOPICAL</td>\n      <td>1.000000</td>\n    </tr>\n    <tr>\n      <th>6</th>\n      <td>2010</td>\n      <td>UNKNOWN</td>\n      <td>2.500000</td>\n    </tr>\n    <tr>\n      <th>7</th>\n      <td>2011</td>\n      <td>ORAL</td>\n      <td>1.000000</td>\n    </tr>\n    <tr>\n      <th>8</th>\n      <td>2012</td>\n      <td>ORAL</td>\n      <td>6.500000</td>\n    </tr>\n    <tr>\n      <th>9</th>\n      <td>2012</td>\n      <td>UNKNOWN</td>\n      <td>2.000000</td>\n    </tr>\n    <tr>\n      <th>10</th>\n      <td>2013</td>\n      <td>ORAL</td>\n      <td>5.000000</td>\n    </tr>\n    <tr>\n      <th>11</th>\n      <td>2013</td>\n      <td>TOPICAL</td>\n      <td>2.000000</td>\n    </tr>\n    <tr>\n      <th>12</th>\n      <td>2013</td>\n      <td>UNKNOWN</td>\n      <td>2.500000</td>\n    </tr>\n    <tr>\n      <th>13</th>\n      <td>2014</td>\n      <td>ORAL</td>\n      <td>3.000000</td>\n    </tr>\n    <tr>\n      <th>14</th>\n      <td>2014</td>\n      <td>UNKNOWN</td>\n      <td>1.500000</td>\n    </tr>\n    <tr>\n      <th>15</th>\n      <td>2015</td>\n      <td>ORAL</td>\n      <td>2.750000</td>\n    </tr>\n    <tr>\n      <th>16</th>\n      <td>2015</td>\n      <td>UNKNOWN</td>\n      <td>1.666667</td>\n    </tr>\n    <tr>\n      <th>17</th>\n      <td>2016</td>\n      <td>ORAL</td>\n      <td>8.750000</td>\n    </tr>\n    <tr>\n      <th>18</th>\n      <td>2016</td>\n      <td>TOPICAL</td>\n      <td>1.000000</td>\n    </tr>\n    <tr>\n      <th>19</th>\n      <td>2016</td>\n      <td>UNKNOWN</td>\n      <td>1.333333</td>\n    </tr>\n    <tr>\n      <th>20</th>\n      <td>2017</td>\n      <td>OPHTHALMIC</td>\n      <td>1.000000</td>\n    </tr>\n    <tr>\n      <th>21</th>\n      <td>2017</td>\n      <td>ORAL</td>\n      <td>2.250000</td>\n    </tr>\n    <tr>\n      <th>22</th>\n      <td>2017</td>\n      <td>RESPIRATORY (INHALATION)</td>\n      <td>1.000000</td>\n    </tr>\n    <tr>\n      <th>23</th>\n      <td>2017</td>\n      <td>TOPICAL</td>\n      <td>2.500000</td>\n    </tr>\n    <tr>\n      <th>24</th>\n      <td>2017</td>\n      <td>UNKNOWN</td>\n      <td>1.714286</td>\n    </tr>\n    <tr>\n      <th>25</th>\n      <td>2018</td>\n      <td>OPHTHALMIC</td>\n      <td>3.000000</td>\n    </tr>\n    <tr>\n      <th>26</th>\n      <td>2018</td>\n      <td>ORAL</td>\n      <td>2.692308</td>\n    </tr>\n    <tr>\n      <th>27</th>\n      <td>2018</td>\n      <td>TOPICAL</td>\n      <td>1.000000</td>\n    </tr>\n    <tr>\n      <th>28</th>\n      <td>2018</td>\n      <td>UNKNOWN</td>\n      <td>1.833333</td>\n    </tr>\n    <tr>\n      <th>29</th>\n      <td>2019</td>\n      <td>ORAL</td>\n      <td>1.400000</td>\n    </tr>\n    <tr>\n      <th>30</th>\n      <td>2019</td>\n      <td>RESPIRATORY (INHALATION)</td>\n      <td>4.000000</td>\n    </tr>\n    <tr>\n      <th>31</th>\n      <td>2019</td>\n      <td>TOPICAL</td>\n      <td>1.000000</td>\n    </tr>\n    <tr>\n      <th>32</th>\n      <td>2019</td>\n      <td>UNKNOWN</td>\n      <td>1.500000</td>\n    </tr>\n  </tbody>\n</table>\n</div>",
            "text/plain": "    year                     route  number_of_ingredients\n0   2009   INTRADERMALSUBCUTANEOUS               1.000000\n1   2009                      ORAL               2.000000\n2   2009                   TOPICAL               1.000000\n3   2009                   UNKNOWN               2.000000\n4   2010                      ORAL               2.000000\n5   2010                   TOPICAL               1.000000\n6   2010                   UNKNOWN               2.500000\n7   2011                      ORAL               1.000000\n8   2012                      ORAL               6.500000\n9   2012                   UNKNOWN               2.000000\n10  2013                      ORAL               5.000000\n11  2013                   TOPICAL               2.000000\n12  2013                   UNKNOWN               2.500000\n13  2014                      ORAL               3.000000\n14  2014                   UNKNOWN               1.500000\n15  2015                      ORAL               2.750000\n16  2015                   UNKNOWN               1.666667\n17  2016                      ORAL               8.750000\n18  2016                   TOPICAL               1.000000\n19  2016                   UNKNOWN               1.333333\n20  2017                OPHTHALMIC               1.000000\n21  2017                      ORAL               2.250000\n22  2017  RESPIRATORY (INHALATION)               1.000000\n23  2017                   TOPICAL               2.500000\n24  2017                   UNKNOWN               1.714286\n25  2018                OPHTHALMIC               3.000000\n26  2018                      ORAL               2.692308\n27  2018                   TOPICAL               1.000000\n28  2018                   UNKNOWN               1.833333\n29  2019                      ORAL               1.400000\n30  2019  RESPIRATORY (INHALATION)               4.000000\n31  2019                   TOPICAL               1.000000\n32  2019                   UNKNOWN               1.500000"
          },
          "metadata": {}
        }
      ]
    }
  ],
  "metadata": {
    "kernelspec": {
      "name": "python36",
      "display_name": "Python 3.6",
      "language": "python"
    },
    "language_info": {
      "mimetype": "text/x-python",
      "nbconvert_exporter": "python",
      "name": "python",
      "pygments_lexer": "ipython3",
      "version": "3.6.6",
      "file_extension": ".py",
      "codemirror_mode": {
        "version": 3,
        "name": "ipython"
      }
    }
  },
  "nbformat": 4,
  "nbformat_minor": 2
}